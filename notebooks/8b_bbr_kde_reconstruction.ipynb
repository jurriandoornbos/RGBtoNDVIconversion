{
 "cells": [
  {
   "cell_type": "code",
   "execution_count": null,
   "id": "cd36c991-df0d-4210-a447-ef70ef0d076a",
   "metadata": {},
   "outputs": [],
   "source": []
  },
  {
   "cell_type": "markdown",
   "id": "2b836783-0d7b-477e-af01-2b96857667a8",
   "metadata": {},
   "source": [
    "# 12. Spatial KDE on the various botrytis predictions\n",
    "running on a different environemnt to 'ndvi': now on 'spatialkde'\n",
    "\n",
    "```\n",
    "conda activate spatialkde\n",
    "```"
   ]
  },
  {
   "cell_type": "markdown",
   "id": "99866a1e-f0a6-4267-9189-da88ef827a43",
   "metadata": {},
   "source": [
    "# Bodegas terras gaudas"
   ]
  },
  {
   "cell_type": "code",
   "execution_count": 1,
   "id": "54f25a8b-3be4-4498-b53a-49aa13646ef1",
   "metadata": {},
   "outputs": [],
   "source": [
    "import geopandas as gpd\n",
    "from spatial_kde import spatial_kernel_density"
   ]
  },
  {
   "cell_type": "code",
   "execution_count": 2,
   "id": "dcdf26a3-11ab-45df-bb97-6b51c8b2c27c",
   "metadata": {},
   "outputs": [],
   "source": [
    "real = gpd.read_file(\"../data/bbr/btg2022/real_pred_kde_input.geojson\")\n",
    "fake = gpd.read_file(\"../data/bbr/btg2022/fake_pred_kde_input.geojson\")\n",
    "fakeHD = gpd.read_file(\"../data/bbr/btg2022/fakeHD_pred_kde_input.geojson\")\n",
    "vi = gpd.read_file(\"../data/bbr/btg2022/vi_pred_kde_input.geojson\")"
   ]
  },
  {
   "cell_type": "code",
   "execution_count": 3,
   "id": "b7bc3906-5dcc-4187-8af2-ad166bd2aca6",
   "metadata": {},
   "outputs": [],
   "source": [
    "heatmap_tif = \"../data/bbr/btg2022/real_bot_heatmap.tif\"\n",
    "data = real[real[\"status\"]==\"Botrytis\"].reset_index()\n",
    "spatial_kernel_density(data, radius = 15,\n",
    "                        output_pixel_size=0.1, \n",
    "                       output_path=heatmap_tif, \n",
    "                       output_driver=\"GTiff\")"
   ]
  },
  {
   "cell_type": "code",
   "execution_count": 4,
   "id": "be216afe-e61c-4089-8660-991ae2e2871e",
   "metadata": {},
   "outputs": [],
   "source": [
    "heatmap_tif = \"../data/bbr/btg2022/fake_bot_heatmap.tif\"\n",
    "data = fake[fake[\"status\"]==\"Botrytis\"].reset_index()\n",
    "spatial_kernel_density(data, radius = 15,\n",
    "                        output_pixel_size=0.1, \n",
    "                       output_path=heatmap_tif, \n",
    "                       output_driver=\"GTiff\")"
   ]
  },
  {
   "cell_type": "code",
   "execution_count": 5,
   "id": "7485a881-4f07-4d45-9241-a2e5dc6ee931",
   "metadata": {},
   "outputs": [],
   "source": [
    "heatmap_tif = \"../data/bbr/btg2022/fakeHD_bot_heatmap.tif\"\n",
    "data = fakeHD[fakeHD[\"status\"]==\"Botrytis\"].reset_index()\n",
    "spatial_kernel_density(data, radius = 15,\n",
    "                        output_pixel_size=0.1, \n",
    "                       output_path=heatmap_tif, \n",
    "                       output_driver=\"GTiff\")"
   ]
  },
  {
   "cell_type": "code",
   "execution_count": 6,
   "id": "221191b3-39a2-4d1d-8aeb-b3a6bc3dc527",
   "metadata": {},
   "outputs": [],
   "source": [
    "heatmap_tif = \"../data/bbr/btg2022/vi_bot_heatmap.tif\"\n",
    "data = vi[vi[\"status\"]==\"Botrytis\"].reset_index()\n",
    "spatial_kernel_density(data, radius = 15,\n",
    "                        output_pixel_size=0.1, \n",
    "                       output_path=heatmap_tif, \n",
    "                       output_driver=\"GTiff\")"
   ]
  },
  {
   "cell_type": "markdown",
   "id": "af84c16e-b15b-4b1e-8d1d-60a0583055bf",
   "metadata": {},
   "source": [
    "# Repeat for canyelles"
   ]
  },
  {
   "cell_type": "code",
   "execution_count": 7,
   "id": "d25df9e9-5574-41fa-b727-64aa509664b1",
   "metadata": {},
   "outputs": [],
   "source": [
    "real = gpd.read_file(\"../data/bbr/can2023/real_pred_kde_input.geojson\")\n",
    "fake = gpd.read_file(\"../data/bbr/can2023/fake_pred_kde_input.geojson\")\n",
    "fakeHD = gpd.read_file(\"../data/bbr/can2023/fakeHD_pred_kde_input.geojson\")\n",
    "\n",
    "vi = gpd.read_file(\"../data/bbr/can2023/vi_pred_kde_input.geojson\")"
   ]
  },
  {
   "cell_type": "code",
   "execution_count": 8,
   "id": "6310ade0-a0e4-48a8-b7f2-13b3d1c782ca",
   "metadata": {},
   "outputs": [],
   "source": [
    "heatmap_tif = \"../data/bbr/can2023/real_bot_heatmap.tif\"\n",
    "data = real[real[\"status\"]==\"Botrytis\"].reset_index()\n",
    "spatial_kernel_density(data, radius = 15,\n",
    "                        output_pixel_size=0.1, \n",
    "                       output_path=heatmap_tif, \n",
    "                       output_driver=\"GTiff\")"
   ]
  },
  {
   "cell_type": "code",
   "execution_count": 9,
   "id": "f5d1f547-5871-416b-a404-ecba6071f804",
   "metadata": {},
   "outputs": [],
   "source": [
    "heatmap_tif = \"../data/bbr/can2023/fake_bot_heatmap.tif\"\n",
    "data = fake[fake[\"status\"]==\"Botrytis\"].reset_index()\n",
    "spatial_kernel_density(data, radius = 15,\n",
    "                        output_pixel_size=0.1, \n",
    "                       output_path=heatmap_tif, \n",
    "                       output_driver=\"GTiff\")"
   ]
  },
  {
   "cell_type": "code",
   "execution_count": 10,
   "id": "c3ba9617-66e5-4005-96b1-d979b56898ef",
   "metadata": {},
   "outputs": [],
   "source": [
    "heatmap_tif = \"../data/bbr/can2023/fakeHD_bot_heatmap.tif\"\n",
    "data = fakeHD[fakeHD[\"status\"]==\"Botrytis\"].reset_index()\n",
    "spatial_kernel_density(data, radius = 15,\n",
    "                        output_pixel_size=0.1, \n",
    "                       output_path=heatmap_tif, \n",
    "                       output_driver=\"GTiff\")"
   ]
  },
  {
   "cell_type": "code",
   "execution_count": 11,
   "id": "bbe9e213-d4b6-4b79-afa3-91db3d612e1b",
   "metadata": {},
   "outputs": [],
   "source": [
    "heatmap_tif = \"../data/bbr/can2023/vi_bot_heatmap.tif\"\n",
    "data = vi[vi[\"status\"]==\"Botrytis\"].reset_index()\n",
    "spatial_kernel_density(data, radius = 15,\n",
    "                        output_pixel_size=0.1, \n",
    "                       output_path=heatmap_tif, \n",
    "                       output_driver=\"GTiff\")"
   ]
  },
  {
   "cell_type": "markdown",
   "id": "78935431-dddb-46c4-83c3-bcf467ae5476",
   "metadata": {},
   "source": [
    "# btg2021-test"
   ]
  },
  {
   "cell_type": "code",
   "execution_count": 1,
   "id": "512cfe72-3fc4-4f5e-a3cc-a452b9f8c540",
   "metadata": {},
   "outputs": [],
   "source": [
    "import geopandas as gpd\n",
    "from spatial_kde import spatial_kernel_density"
   ]
  },
  {
   "cell_type": "code",
   "execution_count": 2,
   "id": "5c774f43-2e14-4e44-888c-44c50371fd87",
   "metadata": {},
   "outputs": [],
   "source": [
    "real = gpd.read_file(\"../data/bbr/btg2021_test/real_pred_kde_input.geojson\")\n",
    "fake = gpd.read_file(\"../data/bbr/btg2021_test/fake_pred_kde_input.geojson\")\n",
    "fakeHD = gpd.read_file(\"../data/bbr/btg2021_test/fakeHD_pred_kde_input.geojson\")\n",
    "vi = gpd.read_file(\"../data/bbr/btg2021_test/vi_pred_kde_input.geojson\")"
   ]
  },
  {
   "cell_type": "code",
   "execution_count": 3,
   "id": "550b50e4-edb6-4567-8b09-455dfe5d7a12",
   "metadata": {},
   "outputs": [],
   "source": [
    "heatmap_tif = \"../data/bbr/btg2021_test/real_bot_heatmap.tif\"\n",
    "data = real[real[\"status\"]==\"Botrytis\"].reset_index()\n",
    "spatial_kernel_density(data, radius = 15,\n",
    "                        output_pixel_size=0.1, \n",
    "                       output_path=heatmap_tif, \n",
    "                       output_driver=\"GTiff\")"
   ]
  },
  {
   "cell_type": "code",
   "execution_count": 4,
   "id": "2b8435d3-fecc-4924-a00f-77262fb38e54",
   "metadata": {},
   "outputs": [],
   "source": [
    "heatmap_tif = \"../data/bbr/btg2021_test/fake_bot_heatmap.tif\"\n",
    "data = fake[fake[\"status\"]==\"Botrytis\"].reset_index()\n",
    "spatial_kernel_density(data, radius = 15,\n",
    "                        output_pixel_size=0.1, \n",
    "                       output_path=heatmap_tif, \n",
    "                       output_driver=\"GTiff\")"
   ]
  },
  {
   "cell_type": "code",
   "execution_count": 5,
   "id": "23481297-ea4d-4edc-9df9-70ebcc18aa01",
   "metadata": {},
   "outputs": [],
   "source": [
    "heatmap_tif = \"../data/bbr/btg2021_test/fakeHD_bot_heatmap.tif\"\n",
    "data = fakeHD[fakeHD[\"status\"]==\"Botrytis\"].reset_index()\n",
    "spatial_kernel_density(data, radius = 15,\n",
    "                        output_pixel_size=0.1, \n",
    "                       output_path=heatmap_tif, \n",
    "                       output_driver=\"GTiff\")"
   ]
  },
  {
   "cell_type": "code",
   "execution_count": 6,
   "id": "c80cf875-4111-4de0-aee5-a46a9a7ebc53",
   "metadata": {},
   "outputs": [],
   "source": [
    "heatmap_tif = \"../data/bbr/btg2021_test/vi_bot_heatmap.tif\"\n",
    "data = vi[vi[\"status\"]==\"Botrytis\"].reset_index()\n",
    "spatial_kernel_density(data, radius = 15,\n",
    "                        output_pixel_size=0.1, \n",
    "                       output_path=heatmap_tif, \n",
    "                       output_driver=\"GTiff\")"
   ]
  },
  {
   "cell_type": "code",
   "execution_count": null,
   "id": "ffb5d412-d216-4383-a10b-4d2039767c45",
   "metadata": {},
   "outputs": [],
   "source": []
  }
 ],
 "metadata": {
  "kernelspec": {
   "display_name": "Python 3 (ipykernel)",
   "language": "python",
   "name": "python3"
  },
  "language_info": {
   "codemirror_mode": {
    "name": "ipython",
    "version": 3
   },
   "file_extension": ".py",
   "mimetype": "text/x-python",
   "name": "python",
   "nbconvert_exporter": "python",
   "pygments_lexer": "ipython3",
   "version": "3.11.4"
  }
 },
 "nbformat": 4,
 "nbformat_minor": 5
}
