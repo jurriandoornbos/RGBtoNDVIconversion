{
 "cells": [
  {
   "cell_type": "markdown",
   "id": "4e7b56b6-92ea-4904-93d9-d5b96ef7ce0f",
   "metadata": {},
   "source": [
    "# 10. data preprocessing to save time in application-level evaluations"
   ]
  },
  {
   "cell_type": "code",
   "execution_count": 1,
   "id": "3be6e05f-1345-48c1-9acd-dfac04b46ab1",
   "metadata": {},
   "outputs": [
    {
     "name": "stderr",
     "output_type": "stream",
     "text": [
      "c:\\users\\judoj\\documents\\programming\\uavgeo\\uavgeo\\compute\\products.py:8: TqdmExperimentalWarning: Using `tqdm.autonotebook.tqdm` in notebook mode. Use `tqdm.tqdm` instead to force console mode (e.g. in jupyter console)\n",
      "  from tqdm.autonotebook import tqdm\n"
     ]
    }
   ],
   "source": [
    "import uavgeo as ug\n",
    "import geopandas as gpd\n",
    "import numpy as np\n",
    "import xarray as xr\n",
    "import rioxarray as rxr\n",
    "import matplotlib.pyplot as plt\n",
    "import os\n",
    "import pandas as pd"
   ]
  },
  {
   "cell_type": "markdown",
   "id": "2e106fff-4635-45a0-9d59-2be36a207c46",
   "metadata": {},
   "source": [
    "## 1. BTG2022 preprocessing"
   ]
  },
  {
   "cell_type": "code",
   "execution_count": 3,
   "id": "13924316-572a-4bf6-b112-61b33ea81ca7",
   "metadata": {},
   "outputs": [],
   "source": [
    "# LOAD DATA bt2022\n",
    "\n",
    "ndvi_p2phd = rxr.open_rasterio(\"../data/orthos/reconstructed/ndvi_p2p_hd_2022.tif\",mode = \"w\")\n",
    "ndvi_p2p = rxr.open_rasterio(\"../data/orthos/reconstructed/ndvi_p2p_v2_2022.tif\",mode = \"w\")\n",
    "ndvi_test = rxr.open_rasterio(\"../data/orthos/ndvi_2022_test.tif\",mode = \"w\")\n",
    "rgb = rxr.open_rasterio(\"../data/orthos/rgb_2022.tif\",mode = \"w\")\n",
    "\n",
    "chm = rxr.open_rasterio(\"../data/orthos/rgb_2022_chm.tif\",mode = \"w\")\n",
    "\n",
    "dem = rxr.open_rasterio(\"../data/orthos/rgb_2022_dem.tif\",mode = \"w\")\n",
    "dsm = rxr.open_rasterio(\"../data/orthos/rgb_2022_dsm.tif\",mode = \"w\")\n",
    "chm = rxr.open_rasterio(\"../data/orthos/rgb_2022_chm.tif\",mode = \"w\")"
   ]
  },
  {
   "cell_type": "code",
   "execution_count": 4,
   "id": "df0c976c-8701-4f8a-a4fd-66068e0af176",
   "metadata": {},
   "outputs": [],
   "source": [
    "# align reproject etc.\n",
    "#pixel-level alignment of the dem,dsm,chm rasters:\n",
    "\n",
    "chm = chm.rio.reproject_match(ndvi_test)\n",
    "dem = dem.rio.reproject_match(ndvi_test)\n",
    "dsm = dsm.rio.reproject_match(ndvi_test)\n",
    "rgb = rgb.rio.reproject_match(ndvi_test)\n",
    "\n",
    "ndvi_p2p = ndvi_p2p.rio.reproject_match(ndvi_test)\n",
    "ndvi_p2phd = ndvi_p2phd.rio.reproject_match(ndvi_test)"
   ]
  },
  {
   "cell_type": "code",
   "execution_count": 5,
   "id": "84b9317d-c573-4a27-ba49-0f7a4bc5b2c7",
   "metadata": {},
   "outputs": [
    {
     "name": "stderr",
     "output_type": "stream",
     "text": [
      "C:\\Users\\judoj\\mambaforge\\envs\\ndvi\\Lib\\site-packages\\rioxarray\\raster_writer.py:130: UserWarning: The nodata value (3.402823466e+38) has been automatically changed to (3.4028234663852886e+38) to match the dtype of the data.\n",
      "  warnings.warn(\n",
      "C:\\Users\\judoj\\mambaforge\\envs\\ndvi\\Lib\\site-packages\\rioxarray\\raster_writer.py:130: UserWarning: The nodata value (3.402823466e+38) has been automatically changed to (3.4028234663852886e+38) to match the dtype of the data.\n",
      "  warnings.warn(\n"
     ]
    }
   ],
   "source": [
    "\n",
    "roi = gpd.read_file(\"../data/bbr/btg2022/roi/RoI.shp\")\n",
    "#clip all to the same extent\n",
    "ndvi_test = ndvi_test.rio.clip(roi.geometry)\n",
    "ndvi_p2phd = ndvi_p2phd.rio.clip(roi.geometry)\n",
    "ndvi_p2p = ndvi_p2p.rio.clip(roi.geometry)\n",
    "chm = chm.rio.clip(roi.geometry)\n",
    "rgb = rgb.rio.clip(roi.geometry)\n",
    "\n",
    "dem = dem.rio.clip(roi.geometry)\n",
    "dsm = dsm.rio.clip(roi.geometry)"
   ]
  },
  {
   "cell_type": "code",
   "execution_count": 6,
   "id": "9bd902c5-3ccc-4d97-b97a-a962a2aa4067",
   "metadata": {},
   "outputs": [],
   "source": [
    "#cset nodata value\n",
    "#cset nodata value\n",
    "ndvi_test = ndvi_test.rio.write_nodata(ndvi_test.rio.nodata, encoded=True)\n",
    "ndvi_p2phd = ndvi_p2phd.rio.write_nodata(ndvi_p2phd.rio.nodata, encoded=True)\n",
    "ndvi_p2p = ndvi_p2p.rio.write_nodata(ndvi_p2p.rio.nodata, encoded=True)\n",
    "dem = dem.rio.write_nodata(dem.rio.nodata, encoded=True)\n",
    "chm = chm.rio.write_nodata(chm.rio.nodata, encoded=True)\n",
    "dsm = dsm.rio.write_nodata(dsm.rio.nodata, encoded=True)\n",
    "rgb = rgb.rio.write_nodata(rgb.rio.nodata, encoded=True)"
   ]
  },
  {
   "cell_type": "code",
   "execution_count": 7,
   "id": "2df912fb-b419-4fd7-aec3-6b4f9514fcae",
   "metadata": {},
   "outputs": [],
   "source": [
    "# add rgbvi into the mix\n",
    "rgbvi = xr.full_like(ndvi_test, fill_value = np.nan)\n",
    "vals = ug.compute.calc_rgbvi(rgb, red_id = 1, green_id = 2, blue_id= 3, rescale = False).values\n",
    "rgbvi.values = vals.reshape(rgbvi.values.shape)"
   ]
  },
  {
   "cell_type": "code",
   "execution_count": 8,
   "id": "cde71dc2-f8ab-49e0-afe7-d4d7c626ff88",
   "metadata": {},
   "outputs": [],
   "source": [
    "ndvi_test.rio.to_raster(\"../data/orthos/preprocessed/ndvi_test.tif\")\n",
    "ndvi_p2p.rio.to_raster(\"../data/orthos/preprocessed/ndvi_p2p.tif\")\n",
    "ndvi_p2phd.rio.to_raster(\"../data/orthos/preprocessed/ndvi_p2phd.tif\")\n",
    "chm.rio.to_raster(\"../data/orthos/preprocessed/chm.tif\")\n",
    "rgbvi.rio.to_raster(\"../data/orthos/preprocessed/rgbvi.tif\")\n",
    "dsm.rio.to_raster(\"../data/orthos/preprocessed/dsm.tif\")\n",
    "dem.rio.to_raster(\"../data/orthos/preprocessed/dem.tif\")\n",
    "rgb.rio.to_raster(\"../data/orthos/preprocessed/rgb.tif\")"
   ]
  },
  {
   "cell_type": "markdown",
   "id": "1049243b-4a0a-461f-a689-838c4280e3bf",
   "metadata": {},
   "source": [
    "## 2. CAN2023 preprocessing"
   ]
  },
  {
   "cell_type": "code",
   "execution_count": 3,
   "id": "7ad5d7aa-9648-4e77-8bc3-17511591f296",
   "metadata": {},
   "outputs": [],
   "source": [
    "# load data can2023\n",
    "\n",
    "ndvi_p2phd = rxr.open_rasterio(\"../data/orthos/reconstructed/canyelles_ndvi_p2p_hd.tif\",mode = \"r\", chunks=True).sel(band=[1])\n",
    "ndvi_p2p = rxr.open_rasterio(\"../data/orthos/reconstructed/canyelles_ndvi_p2p.tif\",mode = \"r\", chunks=True).sel(band=[1])\n",
    "ndvi_test = rxr.open_rasterio(\"../data/orthos/reconstructed/canyelles_ndvi_real.tif\",mode = \"r\", chunks=True).sel(band=[1])\n",
    "\n",
    "dem = rxr.open_rasterio(\"../data/canyelles/orthos/can_2023_dem.tif\",mode = \"r\", chunks=True).astype(np.float32)\n",
    "dem = dem.rio.write_nodata(dem.rio.nodata, encoded=True)\n",
    "dsm = rxr.open_rasterio(\"../data/canyelles/orthos/can_2023_dsm.tif\",mode = \"r\", chunks=True).astype(np.float32)\n",
    "dsm = dsm.rio.write_nodata(dsm.rio.nodata, encoded=True)\n",
    "chm = rxr.open_rasterio(\"../data/canyelles/orthos/can_2023_chm.tif\",mode = \"r\", chunks=True).astype(np.float32)\n",
    "chm = chm.rio.write_nodata(chm.rio.nodata, encoded=True)\n",
    "\n",
    "rgb = rxr.open_rasterio(\"../data/canyelles/orthos/rgb_230609.tif\",mode = \"r\", chunks=True).astype(np.uint8)\n",
    "rgb = rgb.rio.write_nodata(rgb.rio.nodata, encoded=True)\n",
    "#and the mask\n",
    "mask = gpd.read_file(\"../data/canyelles/shapes/vineyard_shape.geojson\")"
   ]
  },
  {
   "cell_type": "code",
   "execution_count": null,
   "id": "7f94a59e-7b67-49fb-988e-e656687f0073",
   "metadata": {},
   "outputs": [],
   "source": []
  },
  {
   "cell_type": "code",
   "execution_count": 4,
   "id": "1a262c05-7479-4938-8240-f21c3473b4ae",
   "metadata": {},
   "outputs": [],
   "source": [
    "ndvi_test = ndvi_test.rio.reproject(\"EPSG:32631\")\n",
    "ndvi_p2p = ndvi_p2p.rio.reproject(\"EPSG:32631\")\n",
    "ndvi_p2phd = ndvi_p2phd.rio.reproject(\"EPSG:32631\")\n",
    "rgb = rgb.rio.reproject(\"EPSG:32631\")"
   ]
  },
  {
   "cell_type": "code",
   "execution_count": 5,
   "id": "533b190b-19fe-4485-977c-d97dd54a85ea",
   "metadata": {},
   "outputs": [
    {
     "name": "stderr",
     "output_type": "stream",
     "text": [
      "C:\\Users\\judoj\\mambaforge\\envs\\ndvi\\Lib\\site-packages\\rioxarray\\raster_writer.py:130: UserWarning: The nodata value (3.402823466e+38) has been automatically changed to (3.4028234663852886e+38) to match the dtype of the data.\n",
      "  warnings.warn(\n"
     ]
    }
   ],
   "source": [
    "#cset nodata value\n",
    "ndvi_test = ndvi_test.rio.write_nodata(ndvi_test.rio.nodata, encoded=True)\n",
    "ndvi_p2phd = ndvi_p2phd.rio.write_nodata(ndvi_p2phd.rio.nodata, encoded=True)\n",
    "ndvi_p2p = ndvi_p2p.rio.write_nodata(ndvi_p2p.rio.nodata, encoded=True)\n",
    "chm = chm.rio.write_nodata(chm.rio.nodata, encoded=True)\n",
    "rgb = rgb.rio.write_nodata(rgb.rio.nodata, encoded=True)"
   ]
  },
  {
   "cell_type": "code",
   "execution_count": 6,
   "id": "4e0275ad-f77c-474b-a3e3-b4d120b28f4d",
   "metadata": {},
   "outputs": [],
   "source": [
    "mask = mask.to_crs(\"EPSG:32631\")\n",
    "mask = mask.geometry"
   ]
  },
  {
   "cell_type": "code",
   "execution_count": 7,
   "id": "5bbb2733-8c8f-4c0d-9c54-bf1976551550",
   "metadata": {},
   "outputs": [],
   "source": [
    "# add rgbvi into the mix\n",
    "#rgbvi = xr.full_like(ndvi_test, fill_value = np.nan)\n",
    "rgbvi = ug.compute.calc_rgbvi(rgb, red_id = 1, green_id = 2, blue_id= 3, rescale = False)\n",
    "#rgbvi.values = vals.reshape(rgbvi.values.shape)"
   ]
  },
  {
   "cell_type": "code",
   "execution_count": 8,
   "id": "b16e60d8-1331-4fd8-914e-e5752d935b0b",
   "metadata": {},
   "outputs": [],
   "source": [
    "rgbvi = rgbvi.astype(np.float32)"
   ]
  },
  {
   "cell_type": "code",
   "execution_count": 9,
   "id": "6077212d-26f4-480f-863a-2d1d3cff716d",
   "metadata": {},
   "outputs": [],
   "source": [
    "# align to same pixel-grid\n",
    "#pixel-level alignment \n",
    "chm = chm.rio.reproject_match(ndvi_test)\n",
    "dem = dem.rio.reproject_match(ndvi_test)\n",
    "dsm = dsm.rio.reproject_match(ndvi_test)\n",
    "#RGB\n",
    "rgbvi = rgbvi.rio.reproject_match(ndvi_test,nodata= 0)\n",
    "ndvi_p2p = ndvi_p2p.rio.reproject_match(ndvi_test)\n",
    "ndvi_p2phd = ndvi_p2phd.rio.reproject_match(ndvi_test)"
   ]
  },
  {
   "cell_type": "code",
   "execution_count": 10,
   "id": "a92993b0-4f85-4bf6-9b7a-5940ca4ce061",
   "metadata": {},
   "outputs": [],
   "source": [
    "vals = rgbvi.values\n",
    "rgbvi = xr.full_like(ndvi_test, fill_value = np.nan)\n",
    "rgbvi.values = vals.reshape(rgbvi.values.shape)"
   ]
  },
  {
   "cell_type": "code",
   "execution_count": 11,
   "id": "405f9027-481c-403d-be6d-d8ae7a08b2f5",
   "metadata": {},
   "outputs": [
    {
     "name": "stderr",
     "output_type": "stream",
     "text": [
      "C:\\Users\\judoj\\mambaforge\\envs\\ndvi\\Lib\\site-packages\\rioxarray\\raster_writer.py:130: UserWarning: The nodata value (3.402823466e+38) has been automatically changed to (3.4028234663852886e+38) to match the dtype of the data.\n",
      "  warnings.warn(\n"
     ]
    }
   ],
   "source": [
    "#cset nodata value again\n",
    "ndvi_test = ndvi_test.rio.write_nodata(ndvi_test.rio.nodata, encoded=True)\n",
    "ndvi_p2phd = ndvi_p2phd.rio.write_nodata(ndvi_p2phd.rio.nodata, encoded=True)\n",
    "ndvi_p2p = ndvi_p2p.rio.write_nodata(ndvi_p2p.rio.nodata, encoded=True)\n",
    "dem = dem.rio.write_nodata(dem.rio.nodata, encoded=True)\n",
    "chm = chm.rio.write_nodata(chm.rio.nodata, encoded=True)\n",
    "dsm = dsm.rio.write_nodata(dsm.rio.nodata, encoded=True)\n",
    "rgbvi = rgbvi.rio.write_nodata(rgbvi.rio.nodata, encoded=True)"
   ]
  },
  {
   "cell_type": "code",
   "execution_count": 13,
   "id": "2328217e-a865-4f54-8203-2beae51877d1",
   "metadata": {},
   "outputs": [],
   "source": [
    "#mask that shittt\n",
    "ndvi_test = ndvi_test.rio.clip(mask)\n",
    "ndvi_p2p = ndvi_p2p.rio.clip(mask)\n",
    "ndvi_p2phd = ndvi_p2phd.rio.clip(mask)\n",
    "#mask that shittt\n",
    "chm= chm.rio.clip(mask)\n",
    "dem = dem.rio.clip(mask)\n",
    "dsm = dsm.rio.clip(mask)\n",
    "\n",
    "#rgb\n",
    "#rgb = rgb.rio.clip(mask)\n",
    "rgbvi = rgbvi.rio.clip(mask)"
   ]
  },
  {
   "cell_type": "code",
   "execution_count": 14,
   "id": "7df1fc19-a53a-4452-84d9-a615b30e11e7",
   "metadata": {},
   "outputs": [],
   "source": [
    "#cset nodata value again\n",
    "ndvi_test = ndvi_test.rio.write_nodata(ndvi_test.rio.nodata, encoded=True)\n",
    "ndvi_p2phd = ndvi_p2phd.rio.write_nodata(ndvi_p2phd.rio.nodata, encoded=True)\n",
    "ndvi_p2p = ndvi_p2p.rio.write_nodata(ndvi_p2p.rio.nodata, encoded=True)\n",
    "dem = dem.rio.write_nodata(dem.rio.nodata, encoded=True)\n",
    "chm = chm.rio.write_nodata(chm.rio.nodata, encoded=True)\n",
    "dsm = dsm.rio.write_nodata(dsm.rio.nodata, encoded=True)\n",
    "rgbvi= rgbvi.rio.write_nodata(rgbvi.rio.nodata, encoded = True)"
   ]
  },
  {
   "cell_type": "code",
   "execution_count": 15,
   "id": "f323ea9f-2606-4422-b84a-ad7a7a48dcaf",
   "metadata": {},
   "outputs": [],
   "source": [
    "ndvi_test.rio.to_raster(\"../data/canyelles/orthos/preprocessed/ndvi_test.tif\")\n",
    "ndvi_p2p.rio.to_raster(\"../data/canyelles/orthos/preprocessed/ndvi_p2p.tif\")\n",
    "ndvi_p2phd.rio.to_raster(\"../data/canyelles/orthos/preprocessed/ndvi_p2phd.tif\")\n",
    "chm.rio.to_raster(\"../data/canyelles/orthos/preprocessed/chm.tif\")\n",
    "dem.rio.to_raster(\"../data/canyelles/orthos/preprocessed/dem.tif\")\n",
    "dsm.rio.to_raster(\"../data/canyelles/orthos/preprocessed/dsm.tif\")\n",
    "rgbvi.rio.to_raster(\"../data/canyelles/orthos/preprocessed/rgbvi.tif\")"
   ]
  },
  {
   "cell_type": "code",
   "execution_count": null,
   "id": "b88a3c4c-8a91-491f-8fc4-428c93e8aa1b",
   "metadata": {},
   "outputs": [],
   "source": []
  },
  {
   "cell_type": "code",
   "execution_count": 3,
   "id": "15cca1d1-e5d3-49c2-b981-c7e81b0d1104",
   "metadata": {},
   "outputs": [
    {
     "name": "stderr",
     "output_type": "stream",
     "text": [
      "C:\\Users\\judoj\\mambaforge\\envs\\ndvi\\Lib\\site-packages\\rioxarray\\raster_writer.py:130: UserWarning: The nodata value (3.402823466e+38) has been automatically changed to (3.4028234663852886e+38) to match the dtype of the data.\n",
      "  warnings.warn(\n"
     ]
    }
   ],
   "source": [
    "#single cell rgb preprocessing\n",
    "mask = gpd.read_file(\"../data/canyelles/shapes/vineyard_shape.geojson\")\n",
    "mask = mask.to_crs(\"EPSG:32631\")\n",
    "mask = mask.geometry\n",
    "\n",
    "rgb = rxr.open_rasterio(\"../data/canyelles/orthos/rgb_230609.tif\",mode = \"r\", chunks=True).astype(np.float32)\n",
    "rgb = rgb.rio.write_nodata(rgb.rio.nodata, encoded=True)\n",
    "rgb = rgb.rio.reproject(\"EPSG:32631\")\n",
    "\n",
    "ndvi_test = rxr.open_rasterio(\"../data/canyelles/orthos/preprocessed/ndvi_test.tif\")\n",
    "rgb = rgb.rio.reproject_match(ndvi_test)\n",
    "rgb = rgb.rio.clip(mask)\n",
    "rgb = rgb.rio.write_nodata(rgb.rio.nodata, encoded=True)\n",
    "rgb = rgb.astype(np.uint8)\n",
    "rgb.rio.to_raster(\"../data/canyelles/orthos/preprocessed/rgb.tif\")"
   ]
  },
  {
   "cell_type": "markdown",
   "id": "de22dc81-cbe7-4e86-8b96-ead29ea1ee01",
   "metadata": {},
   "source": [
    "## 2. btg2021-test preprocessing"
   ]
  },
  {
   "cell_type": "code",
   "execution_count": 3,
   "id": "9b3519be-ae6b-4384-b39d-8fd3dbfcc3a3",
   "metadata": {},
   "outputs": [],
   "source": [
    "# load data can2023\n",
    "\n",
    "ndvi_p2phd = rxr.open_rasterio(\"../data/orthos/reconstructed/ndvi_hd_p2p_2021.tif\",mode = \"r\", chunks=True).sel(band=[1])\n",
    "ndvi_p2p = rxr.open_rasterio(\"../data/orthos/reconstructed/ndvi_p2p2021.tif\",mode = \"r\", chunks=True).sel(band=[1])\n",
    "ndvi_test = rxr.open_rasterio(\"../data/orthos/reconstructed/ndvi_test2021.tif\",mode = \"r\", chunks=True).sel(band=[1])\n",
    "\n",
    "dem = rxr.open_rasterio(\"../data/orthos/btg_2021_dem.tif\",mode = \"r\", chunks=True)\n",
    "dem = dem.rio.write_nodata(dem.rio.nodata, encoded=True)\n",
    "dsm = rxr.open_rasterio(\"../data/orthos/dsm_2021.tif\",mode = \"r\", chunks=True)\n",
    "\n",
    "chm =rxr.open_rasterio(\"../data/orthos/btg_2021_chm.tif\",mode = \"r\", chunks=True)\n",
    "chm = chm.rio.write_nodata(chm.rio.nodata, encoded=True)\n",
    "\n",
    "#and the mask\n",
    "roi = gpd.read_file(\"../data/bbr/btg2021_test/roi.geojson\")"
   ]
  },
  {
   "cell_type": "code",
   "execution_count": 4,
   "id": "bba66b45-d6cf-4247-b614-5f16a0a5ac18",
   "metadata": {},
   "outputs": [],
   "source": [
    "ortho  = rxr.open_rasterio(\"../data/orthos/ms_2021.tif\",mode = \"r\", chunks=True).sel(band=[1,2,3])\n",
    "r = 7500\n",
    "g = 7500\n",
    "b = 6000\n",
    "r_new = ug.compute.scale_band_to_min_max(ortho.sel(band=3), min = 0, max = r)\n",
    "g_new =  ug.compute.scale_band_to_min_max(ortho.sel(band=2), min = 0, max = g)\n",
    "b_new =  ug.compute.scale_band_to_min_max(ortho.sel(band=1), min = 0, max = b)\n",
    "rgb = xr.combine_nested([r_new, g_new, b_new],concat_dim = \"band\")"
   ]
  },
  {
   "cell_type": "code",
   "execution_count": 5,
   "id": "ac6ee4d4-9e3c-4e0e-ae09-e330743a8aaa",
   "metadata": {},
   "outputs": [
    {
     "name": "stderr",
     "output_type": "stream",
     "text": [
      "C:\\Users\\judoj\\mambaforge\\envs\\ndvi\\Lib\\site-packages\\dask\\core.py:121: RuntimeWarning: invalid value encountered in divide\n",
      "  return func(*(_execute_task(a, cache) for a in args))\n",
      "C:\\Users\\judoj\\mambaforge\\envs\\ndvi\\Lib\\site-packages\\numpy\\core\\numeric.py:407: RuntimeWarning: invalid value encountered in cast\n",
      "  multiarray.copyto(res, fill_value, casting='unsafe')\n"
     ]
    }
   ],
   "source": [
    "# add rgbvi into the mix\n",
    "rgbvi = xr.full_like(rgb.sel(band=1), fill_value = np.nan)\n",
    "vals = ug.compute.calc_rgbvi(rgb, red_id = 1, green_id = 2, blue_id= 3, rescale = False).values\n",
    "rgbvi.values = vals.reshape(rgbvi.values.shape)"
   ]
  },
  {
   "cell_type": "code",
   "execution_count": 6,
   "id": "1fb2397f-f04a-4bef-9d04-51252912e24f",
   "metadata": {},
   "outputs": [],
   "source": [
    "\n",
    "\n",
    "#clip all to the same extent\n",
    "ndvi_test = ndvi_test.rio.clip(roi.geometry)\n",
    "ndvi_p2phd = ndvi_p2phd.rio.clip(roi.geometry)\n",
    "ndvi_p2p = ndvi_p2p.rio.clip(roi.geometry)\n",
    "chm = chm.rio.clip(roi.geometry)\n",
    "rgb = rgb.rio.clip(roi.geometry)\n",
    "rgbvi = rgbvi.rio.clip(roi.geometry)\n",
    "dem = dem.rio.clip(roi.geometry)\n",
    "dsm = dsm.rio.clip(roi.geometry)"
   ]
  },
  {
   "cell_type": "code",
   "execution_count": 7,
   "id": "1037cc19-f07d-41bd-b94c-e8727cb482ae",
   "metadata": {},
   "outputs": [
    {
     "name": "stderr",
     "output_type": "stream",
     "text": [
      "C:\\Users\\judoj\\mambaforge\\envs\\ndvi\\Lib\\site-packages\\dask\\array\\chunk.py:278: RuntimeWarning: invalid value encountered in cast\n",
      "  return x.astype(astype_dtype, **kwargs)\n"
     ]
    }
   ],
   "source": [
    "# align reproject etc.\n",
    "#pixel-level alignment of the dem,dsm,chm rasters:\n",
    "\n",
    "chm = chm.rio.reproject_match(ndvi_test)\n",
    "dem = dem.rio.reproject_match(ndvi_test)\n",
    "dsm = dsm.rio.reproject_match(ndvi_test)\n",
    "rgb = rgb.rio.reproject_match(ndvi_test)\n",
    "rgbvi = rgbvi.rio.reproject_match(ndvi_test)\n",
    "ndvi_test = ndvi_test.rio.reproject_match(ndvi_test)\n",
    "ndvi_p2p = ndvi_p2p.rio.reproject_match(ndvi_test)\n",
    "ndvi_p2phd = ndvi_p2phd.rio.reproject_match(ndvi_test)"
   ]
  },
  {
   "cell_type": "code",
   "execution_count": 8,
   "id": "e93b254c-586b-424f-a996-df509afbfe45",
   "metadata": {},
   "outputs": [
    {
     "name": "stderr",
     "output_type": "stream",
     "text": [
      "C:\\Users\\judoj\\mambaforge\\envs\\ndvi\\Lib\\site-packages\\rioxarray\\raster_writer.py:130: UserWarning: The nodata value (3.402823466e+38) has been automatically changed to (3.4028234663852886e+38) to match the dtype of the data.\n",
      "  warnings.warn(\n"
     ]
    }
   ],
   "source": [
    "#cset nodata value\n",
    "#cset nodata value\n",
    "ndvi_test = ndvi_test.rio.write_nodata(ndvi_test.rio.nodata, encoded=True)\n",
    "ndvi_p2phd = ndvi_p2phd.rio.write_nodata(ndvi_p2phd.rio.nodata, encoded=True)\n",
    "ndvi_p2p = ndvi_p2p.rio.write_nodata(ndvi_p2p.rio.nodata, encoded=True)\n",
    "dem = dem.rio.write_nodata(dem.rio.nodata, encoded=True)\n",
    "chm = chm.rio.write_nodata(chm.rio.nodata, encoded=True)\n",
    "dsm = dsm.rio.write_nodata(dsm.rio.nodata, encoded=True)\n",
    "rgb = rgb.rio.write_nodata(rgb.rio.nodata, encoded=True)\n",
    "rgbvi = rgbvi.rio.write_nodata(rgbvi.rio.nodata, encoded=True)"
   ]
  },
  {
   "cell_type": "code",
   "execution_count": 11,
   "id": "1a8e9d35-1084-4dff-866b-9f5d0a4e93ce",
   "metadata": {},
   "outputs": [],
   "source": [
    "ndvi_test.rio.to_raster(\"../data/orthos/preprocessed/btg_2021_test/ndvi_test.tif\")\n",
    "ndvi_p2p.rio.to_raster(\"../data/orthos/preprocessed/btg_2021_test/ndvi_p2p.tif\")\n",
    "ndvi_p2phd.rio.to_raster(\"../data/orthos/preprocessed/btg_2021_test/ndvi_p2phd.tif\")\n",
    "chm.rio.to_raster(\"../data/orthos/preprocessed/btg_2021_test/chm.tif\")\n",
    "rgbvi.rio.to_raster(\"../data/orthos/preprocessed/btg_2021_test/rgbvi.tif\")\n",
    "dsm.rio.to_raster(\"../data/orthos/preprocessed/btg_2021_test/dsm.tif\")\n",
    "dem.rio.to_raster(\"../data/orthos/preprocessed/btg_2021_test/dem.tif\")\n",
    "rgb.rio.to_raster(\"../data/orthos/preprocessed/btg_2021_test/rgb.tif\")"
   ]
  },
  {
   "cell_type": "code",
   "execution_count": null,
   "id": "b89832aa-d899-44df-acd6-3f3d80843ad7",
   "metadata": {},
   "outputs": [],
   "source": []
  }
 ],
 "metadata": {
  "kernelspec": {
   "display_name": "Python 3 (ipykernel)",
   "language": "python",
   "name": "python3"
  },
  "language_info": {
   "codemirror_mode": {
    "name": "ipython",
    "version": 3
   },
   "file_extension": ".py",
   "mimetype": "text/x-python",
   "name": "python",
   "nbconvert_exporter": "python",
   "pygments_lexer": "ipython3",
   "version": "3.11.4"
  }
 },
 "nbformat": 4,
 "nbformat_minor": 5
}
